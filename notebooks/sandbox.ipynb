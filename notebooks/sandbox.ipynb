{
 "cells": [
  {
   "cell_type": "markdown",
   "id": "e48b2226",
   "metadata": {},
   "source": [
    "# lexical statistics on word errors"
   ]
  },
  {
   "cell_type": "code",
   "execution_count": 1,
   "id": "302d5148",
   "metadata": {},
   "outputs": [],
   "source": [
    "s = \"\"\"1. примерно вместо примеров\n",
    "2. у меня вместо у тебя\n",
    "3. дискре вместо диске\n",
    "4. превращаться вместо превращать\n",
    "5. зачем вместо зачет\n",
    "6. почитать вместо починить\n",
    "7. излучается вместо излучает\n",
    "8. спасибо вместо спасите\n",
    "9. отличаются вместо отчисляются\n",
    "10. с тебе вместо с тобой\n",
    "11. а как вместо а так\n",
    "12. никогда вместо нигде\n",
    "13. бля вместо блин\n",
    "14. клякается вместо клякает\n",
    "15. бля вместо был\n",
    "16. нашла вместо наши\n",
    "17. учитель вместо учитесь\n",
    "18. поможешь вместо поможет\n",
    "19. прости вместо просто\n",
    "20. был вместо блин\n",
    "21. жесть вместо жечь\n",
    "22. видео вместо виде\n",
    "23. понять вместо поныть\n",
    "24. ктода вместо когда\n",
    "25. завтра вместо зато\n",
    "26. пример вместо привет\n",
    "27. всегда вместо всего\n",
    "28. завтра вместо забрал\n",
    "29. так и все вместо так и есть\n",
    "30. себя вместо села\n",
    "31. нет вместо кто\n",
    "32. только вместо тогда\n",
    "33. тебя вместо тела\n",
    "34. почти вместо почки\n",
    "35. любое вместо лютое\n",
    "36. привет вместо припев\n",
    "37. читать вместо читаю\n",
    "38. мод вместо мост\n",
    "39. встречается вместо встречаемся\n",
    "40. место вместо метро\n",
    "41. я в школе вместо я в шоке\n",
    "42. python вместо pinterest\n",
    "43. test вместо task\n",
    "44. сделает вместо сдает\n",
    "45. время вместо вроде\n",
    "46. всегда вместо всего\n",
    "47. никогда вместо нигде\n",
    "48. написать вместо например\n",
    "49. (все) время вместо впервые\n",
    "50. with вместо wait\n",
    "51. почему вместо почем\n",
    "52. конце вместо гонке\n",
    "53. давай вместо давать\n",
    "54. только вместо больше\n",
    "55. конец вместо конёк\n",
    "56. каждый вместо кажется\n",
    "57. правда вместо право\n",
    "58. придумать вместо придется\n",
    "59. какие вместо какой\n",
    "60. точно вместо только\n",
    "61. with вместо when\n",
    "62. спаси вместо спать\n",
    "63. точно вместо только \n",
    "64. question вместо language\n",
    "65. правила вместо правда\n",
    "66. потом вместо потоп\n",
    "67. понять вместо поныть\n",
    "68. бля вместо для\n",
    "69. синтаксис вместо синтетика\n",
    "70. which вместо with\n",
    "71. напишу вместо напугалась\n",
    "72. я вместо вы\n",
    "73. можно вместо может\n",
    "74. когда вместо где\n",
    "75. которого вместо того\n",
    "76. stress вместо street\n",
    "77. следующие вместо следующей\n",
    "78. если вместо есть\n",
    "79. words вместо worse\n",
    "80. шикунова вместо школа\n",
    "81. alternative вместо alternating\n",
    "82. прощу вместо проще\n",
    "83. хз вместо ж\n",
    "84. у меня вместо у человека\n",
    "85. сбер вместо сбежать\n",
    "86. которого вместо того\n",
    "87. словам вместо сломать\n",
    "88. говорить вместо кого\n",
    "89. нахуя вместо нахуй\n",
    "90. работает вместо работал\n",
    "91. почему вместо получается\n",
    "92. так вместо тебя\n",
    "93. согласный вместо сегодня\n",
    "94. тоже вместо только\n",
    "95. чел вместо чтобы\n",
    "96. test вместо tense\n",
    "97. знаю вместо знала\n",
    "98. так вместо ты как\n",
    "99. быть вместо было\n",
    "100. думаю вместо душа\n",
    "101. apple вместо apply\n",
    "102. шер вместо шеф\n",
    "103. понять вместо поныть\n",
    "104. у меня вместо у моделей\n",
    "105. привет вместо приехала\n",
    "106. у меня вместо у нас\n",
    "107. готовить вместо говорить\n",
    "108. бля вместо для\n",
    "109. музыка вместо мужик\n",
    "110. пиздец вместо пиздой\n",
    "111. сложно вместо словно\n",
    "112. alexandra вместо alexander\n",
    "113. какая вместо какао\n",
    "114. раба вместо рада\n",
    "115. пусти вместо пути\n",
    "116. самоей вместо самое\n",
    "117. difference вместо different\n",
    "118. alternation вместо alternating\n",
    "119. range вместо random\n",
    "120. syllabic вместо syllable\n",
    "121. заказ вместо закат\n",
    "122. быть вместо бы\n",
    "123. пускается вместо пускает\n",
    "124. все равно вместо все реально\n",
    "125. то есть вместо то что\n",
    "126. арабские вместо арабский\n",
    "127. есть вместо если\n",
    "128. потом вместо помогут\n",
    "129. гулять вместо рулить\n",
    "130. язык вместо якутский\n",
    "131. from вместо for\n",
    "132. computations вместо computation\n",
    "133. есть вместо если\n",
    "134. tokenizer вместо tokenization\n",
    "135. если вместо есть\n",
    "136. hesitation вместо hesitating\n",
    "137. видео вместо видом\n",
    "138. после вместо поступать\n",
    "139. сразу вместо среди\n",
    "140. если вместо есть\n",
    "141. добрый день вместо добрый вечер\n",
    "142. генерация вместо генераций\n",
    "143. платься вместо платья\n",
    "144. собираешься вместо собираемся\n",
    "145. никто вместо никого\n",
    "146. не знаю вместо не знала\n",
    "147. будет вместо будем\n",
    "148. москва вместо мокшанский\n",
    "149. пиздец вместо пиздеть\n",
    "150. превращается вместо превращает\n",
    "151. stress вместо street\n",
    "152. думаю вместо думала\n",
    "153. for вместо so\n",
    "154. generate вместо general\n",
    "155. that вместо the\n",
    "156. text вместо tense\n",
    "157. когда вместо которая\n",
    "158. означается вместо означает\n",
    "159. lean вместо loan\n",
    "160. по-французский вместо по-французски\n",
    "161. могу вместо могла\n",
    "162. когда вместо кому\n",
    "163. are вместо as\n",
    "164. there вместо thesis\n",
    "165. for вместо so\n",
    "166. почему вместо почту\n",
    "167. самых вместо малых\n",
    "168. может быть вместо может это\n",
    "169. часа вместо числа\n",
    "170. recorder вместо records \n",
    "171. кончался вместо кончился\n",
    "172. писать вместо придумать\n",
    "173. через час вместо через чат\n",
    "174. модель вместо можно\n",
    "175. alternative вместо alternates\n",
    "176. устраивается вместо устраивает\n",
    "177. типа вместо там\n",
    "178. говора вместо города\n",
    "179. люлик вместо люлить\n",
    "180. сейчас вместо сегодня\n",
    "181. пойдём вместо поймёшь\n",
    "182. знаю вместо знала\n",
    "183. можно вместо многое\n",
    "184. ну что вместо ну можно\n",
    "185. очень вместо очевидно\n",
    "186. будто вместо будет\n",
    "187. пошёл вместо пошлёт\n",
    "188. получает вместо получать\n",
    "189. решили вместо решишь\n",
    "190. должны быть вместо должны дать \n",
    "191. меня вместо мне\n",
    "192. завтра вместо заставляют\n",
    "193. пусть вместо путь\n",
    "194. сейчас вместо сегодня\n",
    "195. никогда вместо никуда\n",
    "196. да же вместо да уж\n",
    "197. закончился вместо закончилась\n",
    "198. свою вместо твою\n",
    "199. почему вместо получается\n",
    "200. не знаю вместо не знала \n",
    "201. почему вместо почувствовал\n",
    "202. пойдем вместо пойдет\n",
    "203. наверное вместо немного\n",
    "204. жесть ты вместо жесть там\n",
    "205. там вместо типа\n",
    "206. у меня вместо у тебя\n",
    "207. давай вместо давал\n",
    "208. не хочет вместо не хотел\n",
    "209. когда вместо куда\n",
    "210. почему вместо подумать\n",
    "211. что его вместо что есть\n",
    "212. позанимаются вместо позанимаюсь\n",
    "213. не хочется вместо не хотела\n",
    "214. в видео вместо в виде\n",
    "215. совсем вместо совесть\n",
    "216. привет вместо пример\n",
    "217. можно вместо может\n",
    "218. хотя бы вместо хотя это\n",
    "219. модель вместо модуль\n",
    "220. только вместо точно\n",
    "221. чуть вместо чето\n",
    "222. можно вместо может\n",
    "223. есть вместо если\n",
    "224. типа вместо там\n",
    "225. скажу вместо скажи\n",
    "226. like вместо link\n",
    "227. возвращаться вместо возвращать\n",
    "228. кажется вместо каждый\n",
    "\"\"\""
   ]
  },
  {
   "cell_type": "code",
   "execution_count": 41,
   "id": "2ed9385b",
   "metadata": {},
   "outputs": [],
   "source": [
    "import re\n",
    "import pandas as pd\n",
    "import numpy as np"
   ]
  },
  {
   "cell_type": "code",
   "execution_count": 56,
   "id": "8ac71361",
   "metadata": {},
   "outputs": [],
   "source": [
    "data = pd.DataFrame([dict(zip(('written', 'intended'), line.split(' вместо '))) for line in re.findall('\\d+?\\. (.+?)\\n', s)])"
   ]
  },
  {
   "cell_type": "code",
   "execution_count": 57,
   "id": "6b1566c5",
   "metadata": {},
   "outputs": [],
   "source": [
    "data['english'] = data['written'].apply(lambda x: any([char in 'abcdefghijklmnopqrstuvwxyz' for char in x]))\n",
    "data['textlen'] = data['written'].apply(lambda x: len(x.split()))"
   ]
  },
  {
   "cell_type": "code",
   "execution_count": 58,
   "id": "1be9d481",
   "metadata": {},
   "outputs": [
    {
     "data": {
      "text/plain": [
       "<AxesSubplot:ylabel='Frequency'>"
      ]
     },
     "execution_count": 58,
     "metadata": {},
     "output_type": "execute_result"
    },
    {
     "data": {
      "image/png": "[encoded data removed]",
      "text/plain": [
       "<Figure size 432x288 with 1 Axes>"
      ]
     },
     "metadata": {
      "needs_background": "light"
     },
     "output_type": "display_data"
    }
   ],
   "source": [
    "data.textlen.plot(kind='hist')"
   ]
  },
  {
   "cell_type": "code",
   "execution_count": 59,
   "id": "bbbf506b",
   "metadata": {},
   "outputs": [
    {
     "data": {
      "text/plain": [
       "False    196\n",
       "True      32\n",
       "Name: english, dtype: int64"
      ]
     },
     "execution_count": 59,
     "metadata": {},
     "output_type": "execute_result"
    }
   ],
   "source": [
    "data.english.value_counts()"
   ]
  },
  {
   "cell_type": "markdown",
   "id": "822cca1c",
   "metadata": {},
   "source": [
    "## load frequency dictionaries/corpora"
   ]
  },
  {
   "cell_type": "code",
   "execution_count": 60,
   "id": "11e35fe1",
   "metadata": {},
   "outputs": [],
   "source": [
    "# !pip install ruword_frequency"
   ]
  },
  {
   "cell_type": "code",
   "execution_count": 69,
   "id": "91910634",
   "metadata": {},
   "outputs": [
    {
     "data": {
      "text/plain": [
       "36990.3046875"
      ]
     },
     "execution_count": 69,
     "metadata": {},
     "output_type": "execute_result"
    }
   ],
   "source": [
    "from ruword_frequency import Frequency\n",
    "freq = Frequency()\n",
    "freq.load()\n",
    "\n",
    "freq.ipm('привет')\n",
    "# >>> 53.51823806762695\n",
    "\n",
    "freq.ipm('неттакогослова')\n",
    "# >>> 0.0\n",
    "\n",
    "# get max ipm value. For weights normalization, for example\n",
    "freq.max_ipm()\n",
    "# >>> 42329.2890625\n",
    "\n",
    "# get list of most used words  with ipm more then 10000\n",
    "# for w in freq.iterate_words(10000):\n",
    "#     print(w)"
   ]
  },
  {
   "cell_type": "code",
   "execution_count": 62,
   "id": "53f23a5f",
   "metadata": {},
   "outputs": [
    {
     "data": {
      "text/plain": [
       "45.22614669799805"
      ]
     },
     "execution_count": 62,
     "metadata": {},
     "output_type": "execute_result"
    }
   ],
   "source": [
    "freq.ipm('привет')"
   ]
  },
  {
   "cell_type": "code",
   "execution_count": 63,
   "id": "39f3d6cd",
   "metadata": {},
   "outputs": [],
   "source": [
    "data['written_ipm'] = data.apply(lambda row: freq.ipm(row.written) if not row.english and row.textlen == 1 else None, axis=1)\n",
    "data['intended_ipm'] = data.apply(lambda row: freq.ipm(row.intended) if not row.english and row.textlen == 1 else None, axis=1)"
   ]
  },
  {
   "cell_type": "code",
   "execution_count": 64,
   "id": "17250593",
   "metadata": {},
   "outputs": [
    {
     "data": {
      "text/html": [
       "<div>\n",
       "<style scoped>\n",
       "    .dataframe tbody tr th:only-of-type {\n",
       "        vertical-align: middle;\n",
       "    }\n",
       "\n",
       "    .dataframe tbody tr th {\n",
       "        vertical-align: top;\n",
       "    }\n",
       "\n",
       "    .dataframe thead th {\n",
       "        text-align: right;\n",
       "    }\n",
       "</style>\n",
       "<table border=\"1\" class=\"dataframe\">\n",
       "  <thead>\n",
       "    <tr style=\"text-align: right;\">\n",
       "      <th></th>\n",
       "      <th>written</th>\n",
       "      <th>intended</th>\n",
       "      <th>english</th>\n",
       "      <th>textlen</th>\n",
       "      <th>written_ipm</th>\n",
       "      <th>intended_ipm</th>\n",
       "    </tr>\n",
       "  </thead>\n",
       "  <tbody>\n",
       "    <tr>\n",
       "      <th>0</th>\n",
       "      <td>примерно</td>\n",
       "      <td>примеров</td>\n",
       "      <td>False</td>\n",
       "      <td>1</td>\n",
       "      <td>86.343422</td>\n",
       "      <td>5.932119</td>\n",
       "    </tr>\n",
       "    <tr>\n",
       "      <th>1</th>\n",
       "      <td>у меня</td>\n",
       "      <td>у тебя</td>\n",
       "      <td>False</td>\n",
       "      <td>2</td>\n",
       "      <td>NaN</td>\n",
       "      <td>NaN</td>\n",
       "    </tr>\n",
       "    <tr>\n",
       "      <th>2</th>\n",
       "      <td>дискре</td>\n",
       "      <td>диске</td>\n",
       "      <td>False</td>\n",
       "      <td>1</td>\n",
       "      <td>0.000818</td>\n",
       "      <td>1.879505</td>\n",
       "    </tr>\n",
       "    <tr>\n",
       "      <th>3</th>\n",
       "      <td>превращаться</td>\n",
       "      <td>превращать</td>\n",
       "      <td>False</td>\n",
       "      <td>1</td>\n",
       "      <td>37.771141</td>\n",
       "      <td>17.182522</td>\n",
       "    </tr>\n",
       "    <tr>\n",
       "      <th>4</th>\n",
       "      <td>зачем</td>\n",
       "      <td>зачет</td>\n",
       "      <td>False</td>\n",
       "      <td>1</td>\n",
       "      <td>343.322968</td>\n",
       "      <td>3.764265</td>\n",
       "    </tr>\n",
       "    <tr>\n",
       "      <th>...</th>\n",
       "      <td>...</td>\n",
       "      <td>...</td>\n",
       "      <td>...</td>\n",
       "      <td>...</td>\n",
       "      <td>...</td>\n",
       "      <td>...</td>\n",
       "    </tr>\n",
       "    <tr>\n",
       "      <th>223</th>\n",
       "      <td>типа</td>\n",
       "      <td>там</td>\n",
       "      <td>False</td>\n",
       "      <td>1</td>\n",
       "      <td>32.141518</td>\n",
       "      <td>1077.001709</td>\n",
       "    </tr>\n",
       "    <tr>\n",
       "      <th>224</th>\n",
       "      <td>скажу</td>\n",
       "      <td>скажи</td>\n",
       "      <td>False</td>\n",
       "      <td>1</td>\n",
       "      <td>146.690750</td>\n",
       "      <td>121.779892</td>\n",
       "    </tr>\n",
       "    <tr>\n",
       "      <th>225</th>\n",
       "      <td>like</td>\n",
       "      <td>link</td>\n",
       "      <td>True</td>\n",
       "      <td>1</td>\n",
       "      <td>NaN</td>\n",
       "      <td>NaN</td>\n",
       "    </tr>\n",
       "    <tr>\n",
       "      <th>226</th>\n",
       "      <td>возвращаться</td>\n",
       "      <td>возвращать</td>\n",
       "      <td>False</td>\n",
       "      <td>1</td>\n",
       "      <td>92.015411</td>\n",
       "      <td>12.872248</td>\n",
       "    </tr>\n",
       "    <tr>\n",
       "      <th>227</th>\n",
       "      <td>кажется</td>\n",
       "      <td>каждый</td>\n",
       "      <td>False</td>\n",
       "      <td>1</td>\n",
       "      <td>367.673828</td>\n",
       "      <td>574.852539</td>\n",
       "    </tr>\n",
       "  </tbody>\n",
       "</table>\n",
       "<p>228 rows × 6 columns</p>\n",
       "</div>"
      ],
      "text/plain": [
       "          written    intended  english  textlen  written_ipm  intended_ipm\n",
       "0        примерно    примеров    False        1    86.343422      5.932119\n",
       "1          у меня      у тебя    False        2          NaN           NaN\n",
       "2          дискре       диске    False        1     0.000818      1.879505\n",
       "3    превращаться  превращать    False        1    37.771141     17.182522\n",
       "4           зачем       зачет    False        1   343.322968      3.764265\n",
       "..            ...         ...      ...      ...          ...           ...\n",
       "223          типа         там    False        1    32.141518   1077.001709\n",
       "224         скажу       скажи    False        1   146.690750    121.779892\n",
       "225          like        link     True        1          NaN           NaN\n",
       "226  возвращаться  возвращать    False        1    92.015411     12.872248\n",
       "227       кажется      каждый    False        1   367.673828    574.852539\n",
       "\n",
       "[228 rows x 6 columns]"
      ]
     },
     "execution_count": 64,
     "metadata": {},
     "output_type": "execute_result"
    }
   ],
   "source": [
    "data"
   ]
  },
  {
   "cell_type": "code",
   "execution_count": 65,
   "id": "004b1348",
   "metadata": {},
   "outputs": [
    {
     "data": {
      "text/plain": [
       "0.4517543859649123"
      ]
     },
     "execution_count": 65,
     "metadata": {},
     "output_type": "execute_result"
    }
   ],
   "source": [
    "(data.written_ipm > data.intended_ipm).mean()"
   ]
  },
  {
   "cell_type": "code",
   "execution_count": 66,
   "id": "6fcad81f",
   "metadata": {},
   "outputs": [],
   "source": [
    "data['wi_ratio'] = data.written_ipm / data.intended_ipm\n",
    "data.replace([np.inf, -np.inf], np.nan, inplace=True)\n",
    "data.dropna(inplace=True)"
   ]
  },
  {
   "cell_type": "code",
   "execution_count": 67,
   "id": "49befabd",
   "metadata": {},
   "outputs": [
    {
     "data": {
      "text/plain": [
       "(0.26813906628730466, 2.169776805952729, 13.206204145701719)"
      ]
     },
     "execution_count": 67,
     "metadata": {},
     "output_type": "execute_result"
    }
   ],
   "source": [
    "data.wi_ratio.quantile(.25), data.wi_ratio.quantile(.5), data.wi_ratio.quantile(.75)"
   ]
  },
  {
   "cell_type": "code",
   "execution_count": 70,
   "id": "5dede549",
   "metadata": {},
   "outputs": [
    {
     "data": {
      "text/plain": [
       "<AxesSubplot:ylabel='Frequency'>"
      ]
     },
     "execution_count": 70,
     "metadata": {},
     "output_type": "execute_result"
    },
    {
     "data": {
      "image/png": "[encoded data removed]",
      "text/plain": [
       "<Figure size 432x288 with 1 Axes>"
      ]
     },
     "metadata": {
      "needs_background": "light"
     },
     "output_type": "display_data"
    }
   ],
   "source": [
    "data.dropna().loc[data.wi_ratio < data.wi_ratio.quantile(.75)].wi_ratio.plot(kind='hist')"
   ]
  },
  {
   "cell_type": "code",
   "execution_count": 77,
   "id": "7eb1e899",
   "metadata": {},
   "outputs": [
    {
     "data": {
      "text/plain": [
       "29.368705952644653"
      ]
     },
     "execution_count": 77,
     "metadata": {},
     "output_type": "execute_result"
    }
   ],
   "source": [
    "(data.wi_ratio < 1).mean() * (1 - data.loc[data.wi_ratio < 1].wi_ratio.mean()) * 100"
   ]
  },
  {
   "cell_type": "code",
   "execution_count": 73,
   "id": "c4496fb5",
   "metadata": {},
   "outputs": [
    {
     "data": {
      "text/plain": [
       "0.7386674527483352"
      ]
     },
     "execution_count": 73,
     "metadata": {},
     "output_type": "execute_result"
    }
   ],
   "source": [
    "1 - data.loc[data.wi_ratio < 1].wi_ratio.mean()"
   ]
  },
  {
   "cell_type": "code",
   "execution_count": 74,
   "id": "a68efa56",
   "metadata": {},
   "outputs": [
    {
     "data": {
      "text/plain": [
       "0.26133254725166477"
      ]
     },
     "execution_count": 74,
     "metadata": {},
     "output_type": "execute_result"
    }
   ],
   "source": [
    "data.loc[data.wi_ratio < 1].wi_ratio.mean()"
   ]
  },
  {
   "cell_type": "code",
   "execution_count": 76,
   "id": "bb3f4c36",
   "metadata": {},
   "outputs": [],
   "source": [
    "data.to_csv('../resources/sasha.csv')"
   ]
  },
  {
   "cell_type": "code",
   "execution_count": null,
   "id": "fe47bbb2",
   "metadata": {},
   "outputs": [],
   "source": []
  }
 ],
 "metadata": {
  "kernelspec": {
   "display_name": "Python 3",
   "language": "python",
   "name": "python3"
  },
  "language_info": {
   "codemirror_mode": {
    "name": "ipython",
    "version": 3
   },
   "file_extension": ".py",
   "mimetype": "text/x-python",
   "name": "python",
   "nbconvert_exporter": "python",
   "pygments_lexer": "ipython3",
   "version": "3.8.8"
  }
 },
 "nbformat": 4,
 "nbformat_minor": 5
}
